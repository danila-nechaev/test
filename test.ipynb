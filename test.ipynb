{
 "cells": [
  {
   "cell_type": "markdown",
   "metadata": {},
   "source": [
    "Вопрос 1.\n",
    "Вычислите общую выручку за июль 2021 по тем сделкам, приход денежных средств которых не просрочен.\n"
   ]
  },
  {
   "cell_type": "code",
   "execution_count": null,
   "metadata": {},
   "outputs": [],
   "source": [
    "import pandas as pd\n",
    "df = pd.read_excel('./data.xlsx')\n",
    "df = pd.DataFrame(df)\n",
    "df = df.drop(['Unnamed: 5'], axis=1)\n",
    "df\n",
    "\n",
    "\n"
   ]
  },
  {
   "cell_type": "code",
   "execution_count": null,
   "metadata": {},
   "outputs": [],
   "source": [
    "tablica_za_iul2021 = df[259:369]\n",
    "tablica_za_iul2021 #Выводим часть таблицы за Июль 2021\n",
    "\n",
    "tablica_za_iul2021 = tablica_za_iul2021.drop(index= 366 )\n",
    "tablica_za_iul2021 #Убираем только одну строку со статусом ПРОСРОЧЕНО\n",
    "\n"
   ]
  },
  {
   "cell_type": "code",
   "execution_count": null,
   "metadata": {},
   "outputs": [],
   "source": [
    "s = int(tablica_za_iul2021['sum'].sum())\n",
    "s\n",
    "#выручка за Июль 2021\n",
    "#Ответ: 859896"
   ]
  },
  {
   "cell_type": "markdown",
   "metadata": {},
   "source": [
    "Вопрос 2. Как изменялась выручка компании за рассматриваемый период? Проиллюстрируйте графиком."
   ]
  },
  {
   "cell_type": "code",
   "execution_count": null,
   "metadata": {},
   "outputs": [],
   "source": [
    "#Затем строим гистограмму, которая на каждом следующем шаге будет складывать текущее значение с суммой всех предыдущих.\n"
   ]
  },
  {
   "cell_type": "markdown",
   "metadata": {},
   "source": [
    "Вопрос 3. Кто из менеджеров привлек для компании больше всего денежных средств в сентябре 2021?"
   ]
  },
  {
   "cell_type": "code",
   "execution_count": null,
   "metadata": {},
   "outputs": [],
   "source": [
    "import pandas as pd\n",
    "df = pd.read_excel('./data.xlsx')\n",
    "df = pd.DataFrame(df)\n",
    "df = df.drop(['Unnamed: 5'], axis=1)\n",
    "df"
   ]
  },
  {
   "cell_type": "code",
   "execution_count": null,
   "metadata": {},
   "outputs": [],
   "source": [
    "tablica_za_sent2021 = df[485:594]\n",
    "tablica_za_sent2021  #Выводим часть таблицы за Cентябрь 2021\n"
   ]
  },
  {
   "cell_type": "code",
   "execution_count": null,
   "metadata": {},
   "outputs": [],
   "source": [
    "tablica_za_sent2021['sale'].unique()\n",
    "#Смотрим сколько у нас уникальных значений в столбце SALE"
   ]
  },
  {
   "cell_type": "code",
   "execution_count": null,
   "metadata": {},
   "outputs": [],
   "source": [
    "tablica_za_sent2021_ivanov = tablica_za_sent2021 [tablica_za_sent2021['sale'] == 'Иванов']\n",
    "tablica_za_sent2021_ivanov #Вывели Иванова "
   ]
  },
  {
   "cell_type": "code",
   "execution_count": null,
   "metadata": {},
   "outputs": [],
   "source": [
    "tablica_za_sent2021_kuznetsova = tablica_za_sent2021 [tablica_za_sent2021['sale'] == 'Кузнецова']\n",
    "tablica_za_sent2021_kuznetsova #Вывели Кузнецову"
   ]
  },
  {
   "cell_type": "code",
   "execution_count": null,
   "metadata": {},
   "outputs": [],
   "source": [
    "tablica_za_sent2021_andreev = tablica_za_sent2021 [tablica_za_sent2021['sale'] == 'Андреев']\n",
    "tablica_za_sent2021_andreev #Вывели Андреева"
   ]
  },
  {
   "cell_type": "code",
   "execution_count": null,
   "metadata": {},
   "outputs": [],
   "source": [
    "tablica_za_sent2021_filimonova= tablica_za_sent2021 [tablica_za_sent2021['sale'] == 'Филимонова']\n",
    "tablica_za_sent2021_filimonova #Вывели Филимонову"
   ]
  },
  {
   "cell_type": "code",
   "execution_count": null,
   "metadata": {},
   "outputs": [],
   "source": [
    "tablica_za_sent2021_smirnov =  tablica_za_sent2021 [tablica_za_sent2021['sale'] == 'Смирнов']\n",
    "tablica_za_sent2021_smirnov #Вывели Смирнова"
   ]
  },
  {
   "cell_type": "code",
   "execution_count": null,
   "metadata": {},
   "outputs": [],
   "source": [
    "tablica_za_sent2021_petrova =  tablica_za_sent2021 [tablica_za_sent2021['sale'] == 'Петрова']\n",
    "tablica_za_sent2021_petrova #Вывели Петрову"
   ]
  },
  {
   "cell_type": "code",
   "execution_count": null,
   "metadata": {},
   "outputs": [],
   "source": [
    "tablica_za_sent2021_vasilev =  tablica_za_sent2021 [tablica_za_sent2021['sale'] == 'Васильев']\n",
    "tablica_za_sent2021_vasilev #Вывели Васильева"
   ]
  },
  {
   "cell_type": "code",
   "execution_count": null,
   "metadata": {},
   "outputs": [],
   "source": [
    "tablica_za_sent2021_sokolov =  tablica_za_sent2021 [tablica_za_sent2021['sale'] == 'Соколов']\n",
    "tablica_za_sent2021_sokolov #Вывели Соколова"
   ]
  },
  {
   "cell_type": "code",
   "execution_count": null,
   "metadata": {},
   "outputs": [],
   "source": [
    "tablica_za_sent2021_mihailov =  tablica_za_sent2021 [tablica_za_sent2021['sale'] == 'Михайлов']\n",
    "tablica_za_sent2021_mihailov #Вывели Михайлова"
   ]
  },
  {
   "cell_type": "code",
   "execution_count": null,
   "metadata": {},
   "outputs": [],
   "source": [
    "#Вывели менеджера, который привлек для компании больше всего денежных средств в сентябре 2021\n",
    "d = {'Иванов':int(tablica_za_sent2021_ivanov['sum'].sum()), \n",
    "    'Кузнецова':int(tablica_za_sent2021_kuznetsova['sum'].sum()),\n",
    "    'Андреев':int(tablica_za_sent2021_andreev['sum'].sum()), \n",
    "    'Филимонова':int(tablica_za_sent2021_filimonova['sum'].sum()),\n",
    "    'Смирнов': int(tablica_za_sent2021_smirnov['sum'].sum()) ,\n",
    "    'Петрова': int(tablica_za_sent2021_petrova['sum'].sum()),\n",
    "    'Васильев': int(tablica_za_sent2021_vasilev['sum'].sum()),\n",
    "    'Соколов':int(tablica_za_sent2021_sokolov['sum'].sum()), \n",
    "    'Михайлов':int(tablica_za_sent2021_mihailov['sum'].sum()), }\n",
    "v, k = max((v, k) for k, v in d.items())\n",
    "print(k)\n",
    "#Ответ: Смирнов"
   ]
  },
  {
   "cell_type": "markdown",
   "metadata": {},
   "source": [
    "Вопрос 4. Какой тип сделок (новая/текущая) был преобладающим в октябре 2021?"
   ]
  },
  {
   "cell_type": "code",
   "execution_count": null,
   "metadata": {},
   "outputs": [],
   "source": [
    "import pandas as pd\n",
    "df = pd.read_excel('./data.xlsx')\n",
    "df = pd.DataFrame(df)\n",
    "df = df.drop(['Unnamed: 5'], axis=1)\n",
    "df"
   ]
  },
  {
   "cell_type": "code",
   "execution_count": null,
   "metadata": {},
   "outputs": [],
   "source": [
    "tablica_za_okt2021 = df[595:]\n",
    "tablica_za_okt2021\n",
    "#Выводим часть таблицы за Октябрь 2021"
   ]
  },
  {
   "cell_type": "code",
   "execution_count": null,
   "metadata": {},
   "outputs": [],
   "source": [
    "a = tablica_za_okt2021.value_counts('new/current')\n",
    "a\n",
    "#Выводим кол-во повторений каждого значения\n",
    "#Ответ: текущая "
   ]
  },
  {
   "cell_type": "markdown",
   "metadata": {},
   "source": [
    "Вопрос 5. Сколько оригиналов договора по майским сделкам было получено в июне 2021?"
   ]
  },
  {
   "cell_type": "code",
   "execution_count": null,
   "metadata": {},
   "outputs": [],
   "source": [
    "import pandas as pd\n",
    "df = pd.read_excel('./data.xlsx')\n",
    "df = pd.DataFrame(df)\n",
    "df = df.drop(['Unnamed: 5'], axis=1)\n",
    "df"
   ]
  },
  {
   "cell_type": "code",
   "execution_count": null,
   "metadata": {},
   "outputs": [],
   "source": [
    "tablica_za_mai2021 = df[1:129]\n",
    "tablica_za_mai2021\n",
    "# Выводим таблицу за Май 2021"
   ]
  },
  {
   "cell_type": "code",
   "execution_count": null,
   "metadata": {},
   "outputs": [],
   "source": [
    "tablica_za_mai2021['receiving_date'] = pd.to_datetime(tablica_za_mai2021['receiving_date'], infer_datetime_format=True,errors='coerce')\n",
    "tablica_za_mai2021\n",
    "# В столбце 'receiving_date' переводим значения из типа object в datetime, чтобы удобнее было искать "
   ]
  },
  {
   "cell_type": "code",
   "execution_count": null,
   "metadata": {},
   "outputs": [],
   "source": [
    "tablica_za_mai2021[\"receiving_date\"] = tablica_za_mai2021[\"receiving_date\"].dt.to_period(\"M\")# сокращаем дату до 6 месяца (июнь)\n",
    "tablica_za_mai2021 = tablica_za_mai2021[tablica_za_mai2021['receiving_date']=='2021-06'] #Выводим только их\n",
    "tablica_za_mai2021"
   ]
  },
  {
   "cell_type": "code",
   "execution_count": null,
   "metadata": {},
   "outputs": [],
   "source": [
    "a = tablica_za_mai2021.value_counts('document')\n",
    "a\n",
    "#Считаем кол-во оригиналов в столбце 'document' за этот период\n",
    "#Ответ: 76"
   ]
  },
  {
   "cell_type": "markdown",
   "metadata": {},
   "source": [
    "Задание 1. За каждую заключенную сделку менеджер получает бонус, который рассчитывается следующим образом.\n",
    "1) За новые сделки менеджер получает 7 % от суммы, при условии, что статус оплаты «ОПЛАЧЕНО», а также имеется оригинал подписанного договора с клиентом (в рассматриваемом месяце).\n"
   ]
  },
  {
   "cell_type": "code",
   "execution_count": null,
   "metadata": {},
   "outputs": [],
   "source": [
    "import pandas as pd\n",
    "df = pd.read_excel('./data.xlsx')\n",
    "df = pd.DataFrame(df)\n",
    "df = df.drop(['Unnamed: 5'], axis=1)\n",
    "df['NC'] = df['new/current']\n",
    "df = df.drop(['new/current'], axis=1)#Выводим таблицу \n",
    "name = str(input()) #Вводим фамилию любого менеджера\n",
    "df = df[df['sale'] == name] # проверяем условия\n",
    "df = df[df['status'] == 'ОПЛАЧЕНО']# проверяем условия\n",
    "df = df[df['document']== 'оригинал']# проверяем условия\n",
    "df = df[df['NC'] == 'новая']# проверяем условия\n",
    "aa = df['sum'].sum() #Считаем прибыль \n",
    "s = int(aa*7/100)#Считаем процент\n",
    "print(f'{name} за сделки получает бонус: {s}$')#Печатаем ответ "
   ]
  },
  {
   "cell_type": "markdown",
   "metadata": {},
   "source": [
    "Задание 2. За каждую заключенную сделку менеджер получает бонус, который рассчитывается следующим образом.\n",
    "\n",
    "2) За текущие сделки менеджер получает 5 % от суммы, если она больше 10 тыс., и 3 % от суммы, если меньше. При этом статус оплаты может быть любым, кроме «ПРОСРОЧЕНО», а также необходимо наличие оригинала подписанного договора с клиентом (в рассматриваемом месяце)."
   ]
  },
  {
   "cell_type": "code",
   "execution_count": null,
   "metadata": {},
   "outputs": [],
   "source": [
    "import pandas as pd\n",
    "df = pd.read_excel('./data.xlsx')\n",
    "df = pd.DataFrame(df)\n",
    "df = df.drop(['Unnamed: 5'], axis=1)\n",
    "df['NC'] = df['new/current']\n",
    "df = df.drop(['new/current'], axis=1)#Выводим таблицу \n",
    "name = str(input())#Вводим фамилию любого менеджера\n",
    "df = df[df['sale'] == name]# проверяем условия\n",
    "df = df.query('status != \"ПРОСРОЧЕНО\"')# проверяем условия\n",
    "df = df[df['document']== 'оригинал']# проверяем условия\n",
    "df = df[df['NC'] == 'текущая']# проверяем условия\n",
    "if df['sum'].sum() >=10000:# проверяем условия\n",
    "    s = int(aa*5/100)#Считаем процент\n",
    "else:\n",
    "    s = int(aa*3/100)#Считаем процент\n",
    "print(f'{name} за сделки получает бонус: {s}$')#Печатаем ответ "
   ]
  }
 ],
 "metadata": {
  "kernelspec": {
   "display_name": "Python 3",
   "language": "python",
   "name": "python3"
  },
  "language_info": {
   "codemirror_mode": {
    "name": "ipython",
    "version": 3
   },
   "file_extension": ".py",
   "mimetype": "text/x-python",
   "name": "python",
   "nbconvert_exporter": "python",
   "pygments_lexer": "ipython3",
   "version": "3.10.8"
  }
 },
 "nbformat": 4,
 "nbformat_minor": 2
}
